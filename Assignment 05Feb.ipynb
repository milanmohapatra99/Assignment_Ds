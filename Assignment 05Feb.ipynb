{
 "cells": [
  {
   "cell_type": "markdown",
   "id": "277d2aa5-ba8a-486f-ad96-6fabeb2a0848",
   "metadata": {},
   "source": [
    "Q 1. Explain Class and Object with respect to Object-Oriented Programming.Give a suitable example."
   ]
  },
  {
   "cell_type": "markdown",
   "id": "5146d480-8862-4d12-8363-6237b8297499",
   "metadata": {},
   "source": [
    "Ans:\n",
    "Class:- A class is considered as a blueprint of objects. Class is the collection of objects of similartype and it is a userdefined datatype.\n",
    "\n",
    "e.g:\n",
    "suppose we create object like bmw,audi & Mercides then it belongs to class \"car\".\n",
    "\n",
    "Syntax:-\n",
    "class classname:\n",
    "    #class defination\n",
    "    \n",
    "e.g:-\n",
    "class car:\n",
    "    name = \"BMW\"\n",
    "    color =\"white\"\n",
    "    \n",
    "Object :- \n",
    "An object is called an instance of a class. An object is a collection of complex variables and functions and can be used to represent real entities like a button, an airplane, or a person.\n",
    "\n",
    "\n",
    "e.g:-\n",
    "#creation of class\n",
    "class car:\n",
    "    name = \"BMW\"\n",
    "    color =\"white\"\n",
    "    \n",
    "#create object of class\n",
    "car1 = car()"
   ]
  },
  {
   "cell_type": "markdown",
   "id": "33d76da3-d59b-4722-986c-5f9bfa3e2a70",
   "metadata": {},
   "source": [
    "Q.2 Name the four pillars of OOPS."
   ]
  },
  {
   "cell_type": "markdown",
   "id": "30b6be12-b54e-42c9-9ef5-9556bc520bf0",
   "metadata": {},
   "source": [
    "Ans:- The four pillars of OOP are Inheritance,polymorphism,Encapsulation and Abstraction."
   ]
  },
  {
   "cell_type": "markdown",
   "id": "6106f8ac-b15f-4d2d-8666-ecab81872e11",
   "metadata": {},
   "source": [
    "Q.3. Explain why the __init__() function is used.Give a suitable example."
   ]
  },
  {
   "cell_type": "markdown",
   "id": "3629fb34-b933-4b4a-aa8b-a552d7e3f3fc",
   "metadata": {},
   "source": [
    "Ans :-The __init__ method used in  OOPs to initialize the object's attributes and serves no other purpose.The __init__ function is called every time when  an object is created from a class. It is only used within classes. The __init__ method is also known as constructor.\n",
    "\n",
    "e.g:- \n",
    "Consider a class players that representes a player's name and age.The init() can be used to initialize these attributes when a new object of the player class created.\n"
   ]
  },
  {
   "cell_type": "code",
   "execution_count": 1,
   "id": "175f62b6-891a-4587-b1d5-7c2ac540b917",
   "metadata": {},
   "outputs": [
    {
     "name": "stdout",
     "output_type": "stream",
     "text": [
      "Dhoni\n",
      "36\n"
     ]
    }
   ],
   "source": [
    "class Players:\n",
    "    def __init__(self, name, age):\n",
    "        self.name = name\n",
    "        self.age = age\n",
    "\n",
    "p1 = Players(\"Dhoni\", 36)\n",
    "\n",
    "print(p1.name)\n",
    "print(p1.age)"
   ]
  },
  {
   "cell_type": "markdown",
   "id": "60ae497b-8655-4eb8-9f49-5ad0d518437d",
   "metadata": {},
   "source": [
    "Q.4. Why self is used in OOPs?"
   ]
  },
  {
   "cell_type": "markdown",
   "id": "233f9353-51e9-4a13-af61-6e7d2ad8b774",
   "metadata": {},
   "source": [
    "Ans:- The self variable is used to represent the instance of the class which is often used in object-oriented programming. It works as a reference to the object. Python uses the self parameter to refer to instance attributes and methods of the class"
   ]
  },
  {
   "cell_type": "markdown",
   "id": "2111f29e-8f3d-423a-acfe-e375fba2297f",
   "metadata": {},
   "source": [
    "Q.5. What is inheritance?Give an example for each type of inheritance."
   ]
  },
  {
   "cell_type": "markdown",
   "id": "8c216243-643b-4659-98a1-0b01218fac8e",
   "metadata": {},
   "source": [
    "Ans: - Inheritance is a process of obtaining properties and characteristics(variables and methods) of another class.\n",
    "\n",
    "Types of Inheritance in Python : \n",
    "\n",
    "1. Single Inheritance: \n",
    "    Single inheritance enables a derived class to inherit properties from a single parent class, thus enabling code reusability and the addition of new features to existing code.\n",
    "      "
   ]
  },
  {
   "cell_type": "code",
   "execution_count": 2,
   "id": "0b60e0d2-6383-4eb2-a37e-a75b51cd849d",
   "metadata": {},
   "outputs": [
    {
     "name": "stdout",
     "output_type": "stream",
     "text": [
      "This function is in parent class.\n",
      "This function is in child class.\n"
     ]
    }
   ],
   "source": [
    "# single inheritance\n",
    " \n",
    "# Base class\n",
    "class Parent:\n",
    "    def func1(self):\n",
    "        print(\"This function is in parent class.\")\n",
    " # Derived class\n",
    "class Child(Parent):\n",
    "    def func2(self):\n",
    "        print(\"This function is in child class.\")\n",
    "object = Child()\n",
    "object.func1()\n",
    "object.func2()"
   ]
  },
  {
   "cell_type": "markdown",
   "id": "863add20-387f-4885-a2a7-c6c8edb7d068",
   "metadata": {},
   "source": [
    "2. Multiple Inheritance: \n",
    "  When a class can be derived from more than one base class this type of inheritance is called multiple inheritances. In multiple inheritances, all the features of the base classes are inherited into the derived class.\n",
    "\n"
   ]
  },
  {
   "cell_type": "code",
   "execution_count": 3,
   "id": "2366a872-e8d6-422e-a35e-7777f155a8b5",
   "metadata": {},
   "outputs": [
    {
     "name": "stdout",
     "output_type": "stream",
     "text": [
      "Brand : Flipkart\n",
      "Product : Smart Watch\n"
     ]
    }
   ],
   "source": [
    "# Python program to demonstrate\n",
    "# multiple inheritance\n",
    "\n",
    "# Base class1\n",
    "class Brand:\n",
    "\tbrand_name = \"\"\n",
    "\n",
    "\tdef brand(self):\n",
    "\t\tprint(self.brand_name)\n",
    "\n",
    "# Base class2\n",
    "class Product:\n",
    "\tprod = \"\"\n",
    "\n",
    "\tdef father(self):\n",
    "\t\tprint(self.prod)\n",
    "\n",
    "\n",
    "class Price(Brand, Product):\n",
    "\tdef popularity(self):\n",
    "\t\tprint(\"Brand :\", self.brand_name)\n",
    "\t\tprint(\"Product :\", self.prod)\n",
    "\n",
    "p1 = Price()\n",
    "p1.brand_name = \"Flipkart\"\n",
    "p1.prod = \"Smart Watch\"\n",
    "p1.popularity()\n"
   ]
  },
  {
   "cell_type": "markdown",
   "id": "0641c421-b2e2-45ee-987f-ab3069c4c56e",
   "metadata": {},
   "source": [
    "Multilevel Inheritance:\n",
    "In multilevel inheritance, we have one parent class and child class that is derived or inherited from that parent class. We have a grand-child class that is derived from the child class."
   ]
  },
  {
   "cell_type": "code",
   "execution_count": 4,
   "id": "5334cbce-4339-4f3d-ab79-007253d3a849",
   "metadata": {},
   "outputs": [
    {
     "name": "stdout",
     "output_type": "stream",
     "text": [
      "Mammal\n",
      "4\n"
     ]
    }
   ],
   "source": [
    "class Animal:\n",
    "    def __init__(self, species, legs):\n",
    "        self.species = species\n",
    "        self.legs = legs\n",
    "        \n",
    "    def make_sound(self):\n",
    "        print(\"Some animal sound\")\n",
    "        \n",
    "class Mammal(Animal):\n",
    "    def __init__(self, fur):\n",
    "        Animal.__init__(self, \"Mammal\", 4)\n",
    "        self.fur = fur\n",
    "        \n",
    "class Dog(Mammal):\n",
    "    def __init__(self, breed):\n",
    "        Mammal.__init__(self, True)\n",
    "        self.breed = breed\n",
    "        \n",
    "    def make_sound(self):\n",
    "        print(\"Bark\")\n",
    "        \n",
    "dog = Dog(\"Boxer\")\n",
    "print(dog.species)\n",
    "print(dog.legs)"
   ]
  },
  {
   "cell_type": "markdown",
   "id": "8a44c6ab-bf13-4948-b5f6-2ca61faf5dd4",
   "metadata": {},
   "source": [
    "Hierarchical Inheritance: -\n",
    "\n",
    "When more than one derived class are created from a single base this type of inheritance is called hierarchical inheritance.we have a parent (base) class and two child (derived) classes."
   ]
  },
  {
   "cell_type": "code",
   "execution_count": 5,
   "id": "379e44c7-1628-4096-8a0b-af8b597aaa4d",
   "metadata": {},
   "outputs": [
    {
     "name": "stdout",
     "output_type": "stream",
     "text": [
      "This function is Fruit class.\n",
      "This function is Apple Class.\n",
      "This function is Fruit class.\n",
      "This function is Orange Class.\n"
     ]
    }
   ],
   "source": [
    "# Hierarchical inheritance\n",
    "# Base class\n",
    "class Fruit:\n",
    "\tdef func1(self):\n",
    "\t\tprint(\"This function is Fruit class.\")\n",
    "\n",
    "# Derived class1\n",
    "class Apple(Fruit):\n",
    "\tdef func2(self):\n",
    "\t\tprint(\"This function is Apple Class.\")\n",
    "\n",
    "# Derivied class2\n",
    "class Orange(Fruit):\n",
    "\tdef func3(self):\n",
    "\t\tprint(\"This function is Orange Class.\")\n",
    "\n",
    "object1 = Apple()\n",
    "object2 = Orange()\n",
    "object1.func1()\n",
    "object1.func2()\n",
    "object2.func1()\n",
    "object2.func3()\n"
   ]
  },
  {
   "cell_type": "markdown",
   "id": "75be2c5e-e745-4554-a6f4-8cb87e6d371c",
   "metadata": {},
   "source": [
    "Hybrid Inheritance:\n",
    "\n",
    "Inheritance consisting of multiple types of inheritance is called hybrid inheritance."
   ]
  },
  {
   "cell_type": "code",
   "execution_count": 6,
   "id": "499e9cef-560a-454b-b086-f3c4e5a6a020",
   "metadata": {},
   "outputs": [
    {
     "name": "stdout",
     "output_type": "stream",
     "text": [
      "This is Student class inheriting PC and Laptop\n",
      "This is Mouse class inheriting Laptop class\n"
     ]
    }
   ],
   "source": [
    "#Hybrid_inheritance\n",
    "class PC:\n",
    "    def fun1(self):\n",
    "        print(\"This is PC class\")\n",
    "\n",
    "class Laptop(PC):\n",
    "    def fun2(self):\n",
    "        print(\"This is Laptop class inheriting PC class\")\n",
    "\n",
    "class Mouse(Laptop):\n",
    "    def fun3(self):\n",
    "        print(\"This is Mouse class inheriting Laptop class\")\n",
    "\n",
    "class Student(Mouse, Laptop):\n",
    "    def fun4(self):\n",
    "        print(\"This is Student class inheriting PC and Laptop\")\n",
    "\n",
    "\n",
    "obj = Student()\n",
    "obj1 = Mouse()\n",
    "obj.fun4()\n",
    "obj.fun3()"
   ]
  },
  {
   "cell_type": "code",
   "execution_count": null,
   "id": "befb245b-b746-4e8e-9cbd-f92ab70428eb",
   "metadata": {},
   "outputs": [],
   "source": []
  }
 ],
 "metadata": {
  "kernelspec": {
   "display_name": "Python 3 (ipykernel)",
   "language": "python",
   "name": "python3"
  },
  "language_info": {
   "codemirror_mode": {
    "name": "ipython",
    "version": 3
   },
   "file_extension": ".py",
   "mimetype": "text/x-python",
   "name": "python",
   "nbconvert_exporter": "python",
   "pygments_lexer": "ipython3",
   "version": "3.10.6"
  }
 },
 "nbformat": 4,
 "nbformat_minor": 5
}
